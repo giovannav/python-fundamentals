{
 "cells": [
  {
   "cell_type": "code",
   "execution_count": 1,
   "metadata": {},
   "outputs": [
    {
     "name": "stdout",
     "output_type": "stream",
     "text": [
      "The Zen of Python, by Tim Peters\n",
      "\n",
      "Beautiful is better than ugly.\n",
      "Explicit is better than implicit.\n",
      "Simple is better than complex.\n",
      "Complex is better than complicated.\n",
      "Flat is better than nested.\n",
      "Sparse is better than dense.\n",
      "Readability counts.\n",
      "Special cases aren't special enough to break the rules.\n",
      "Although practicality beats purity.\n",
      "Errors should never pass silently.\n",
      "Unless explicitly silenced.\n",
      "In the face of ambiguity, refuse the temptation to guess.\n",
      "There should be one-- and preferably only one --obvious way to do it.\n",
      "Although that way may not be obvious at first unless you're Dutch.\n",
      "Now is better than never.\n",
      "Although never is often better than *right* now.\n",
      "If the implementation is hard to explain, it's a bad idea.\n",
      "If the implementation is easy to explain, it may be a good idea.\n",
      "Namespaces are one honking great idea -- let's do more of those!\n"
     ]
    }
   ],
   "source": [
    "import this"
   ]
  },
  {
   "cell_type": "markdown",
   "metadata": {},
   "source": [
    "### 155. random seeds"
   ]
  },
  {
   "cell_type": "code",
   "execution_count": 2,
   "metadata": {},
   "outputs": [],
   "source": [
    "import random"
   ]
  },
  {
   "cell_type": "code",
   "execution_count": 3,
   "metadata": {},
   "outputs": [
    {
     "name": "stdout",
     "output_type": "stream",
     "text": [
      "16 0.20716608435837358\n",
      "17 0.4817523239217203\n",
      "13 0.9621433322014832\n",
      "16 0.5098809713465636\n",
      "12 0.630590521786991\n",
      "20 0.6354383701242331\n",
      "15 0.5338469059259878\n",
      "20 0.47777925468032456\n",
      "20 0.3139008026533948\n",
      "11 0.11627411607623006\n"
     ]
    }
   ],
   "source": [
    "for _ in range(10):\n",
    "    print(random. randint(10, 20), random.random())"
   ]
  },
  {
   "cell_type": "code",
   "execution_count": 4,
   "metadata": {},
   "outputs": [
    {
     "name": "stdout",
     "output_type": "stream",
     "text": [
      "12 0.8445361819762441\n",
      "14 0.4919101297675005\n",
      "11 0.5472125168904604\n",
      "10 0.07998616531922309\n",
      "13 0.7937359767700723\n",
      "20 0.8102461473855764\n",
      "19 0.0004950100494170995\n",
      "14 0.11071369242783036\n",
      "18 0.6798694068569912\n",
      "20 0.15962792066438403\n"
     ]
    }
   ],
   "source": [
    "for _ in range(10):\n",
    "    print(random. randint(10, 20), random.random())"
   ]
  },
  {
   "cell_type": "code",
   "execution_count": 5,
   "metadata": {},
   "outputs": [],
   "source": [
    "random.seed(0)"
   ]
  },
  {
   "cell_type": "code",
   "execution_count": 6,
   "metadata": {},
   "outputs": [
    {
     "name": "stdout",
     "output_type": "stream",
     "text": [
      "16 0.7579544029403025\n",
      "16 0.04048437818077755\n",
      "18 0.48592769656281265\n",
      "14 0.9677999949201714\n",
      "15 0.5833820394550312\n",
      "13 0.5046868558173903\n",
      "14 0.1397457849666789\n",
      "11 0.6183689966753316\n",
      "14 0.9872592010330129\n",
      "18 0.9827854760376531\n"
     ]
    }
   ],
   "source": [
    "for _ in range(10):\n",
    "    print(random. randint(10, 20), random.random())"
   ]
  },
  {
   "cell_type": "code",
   "execution_count": 7,
   "metadata": {},
   "outputs": [
    {
     "name": "stdout",
     "output_type": "stream",
     "text": [
      "19 0.9021659504395827\n",
      "14 0.09876334465914771\n",
      "11 0.8988382879679935\n",
      "20 0.33019721859799855\n",
      "18 0.1007012080683658\n",
      "16 0.31619669952159346\n",
      "20 0.9130110532378982\n",
      "18 0.47700977655271704\n",
      "18 0.2604923103919594\n",
      "18 0.9159944803568847\n"
     ]
    }
   ],
   "source": [
    "for _ in range(10):\n",
    "    print(random. randint(10, 20), random.random())"
   ]
  },
  {
   "cell_type": "code",
   "execution_count": 8,
   "metadata": {},
   "outputs": [
    {
     "name": "stdout",
     "output_type": "stream",
     "text": [
      "16 0.7579544029403025\n",
      "16 0.04048437818077755\n",
      "18 0.48592769656281265\n",
      "14 0.9677999949201714\n",
      "15 0.5833820394550312\n",
      "13 0.5046868558173903\n",
      "14 0.1397457849666789\n",
      "11 0.6183689966753316\n",
      "14 0.9872592010330129\n",
      "18 0.9827854760376531\n"
     ]
    }
   ],
   "source": [
    "random.seed(0)\n",
    "for _ in range(10):\n",
    "    print(random. randint(10, 20), random.random())"
   ]
  },
  {
   "cell_type": "code",
   "execution_count": 14,
   "metadata": {},
   "outputs": [],
   "source": [
    "def generate_random_stuff(seed=None):\n",
    "    random.seed(seed)\n",
    "    results = []\n",
    "    \n",
    "    for _ in range(5):\n",
    "        results.append(random.randint(0, 5))\n",
    "        \n",
    "    chracteres = list('abc')\n",
    "    random.shuffle(chracteres)\n",
    "    results.append(chracteres)\n",
    "    \n",
    "    for _ in range(5):\n",
    "        results.append(random.gauss(0, 1))\n",
    "        \n",
    "    return results"
   ]
  },
  {
   "cell_type": "code",
   "execution_count": 15,
   "metadata": {},
   "outputs": [
    {
     "data": {
      "text/plain": [
       "[4,\n",
       " 0,\n",
       " 4,\n",
       " 5,\n",
       " 0,\n",
       " ['a', 'c', 'b'],\n",
       " 0.6438622135765966,\n",
       " 2.33064675817226,\n",
       " 2.2218741355578673,\n",
       " -1.1836139911703902,\n",
       " -0.05509397888872477]"
      ]
     },
     "execution_count": 15,
     "metadata": {},
     "output_type": "execute_result"
    }
   ],
   "source": [
    "generate_random_stuff()"
   ]
  },
  {
   "cell_type": "code",
   "execution_count": 16,
   "metadata": {},
   "outputs": [
    {
     "data": {
      "text/plain": [
       "[0,\n",
       " 1,\n",
       " 5,\n",
       " 4,\n",
       " 5,\n",
       " ['a', 'c', 'b'],\n",
       " -0.8555242011999039,\n",
       " -0.5234771101729729,\n",
       " -0.46012072662812525,\n",
       " 1.1622037227968443,\n",
       " 0.9102749980992357]"
      ]
     },
     "execution_count": 16,
     "metadata": {},
     "output_type": "execute_result"
    }
   ],
   "source": [
    "generate_random_stuff()"
   ]
  },
  {
   "cell_type": "code",
   "execution_count": 18,
   "metadata": {},
   "outputs": [
    {
     "data": {
      "text/plain": [
       "[3,\n",
       " 3,\n",
       " 0,\n",
       " 2,\n",
       " 4,\n",
       " ['a', 'c', 'b'],\n",
       " 1.6391095109274887,\n",
       " -0.9249345372119703,\n",
       " 0.9223306019157185,\n",
       " -0.1891931090669293,\n",
       " 0.5456115709634167]"
      ]
     },
     "execution_count": 18,
     "metadata": {},
     "output_type": "execute_result"
    }
   ],
   "source": [
    "generate_random_stuff(0)"
   ]
  },
  {
   "cell_type": "code",
   "execution_count": 19,
   "metadata": {},
   "outputs": [
    {
     "data": {
      "text/plain": [
       "[3,\n",
       " 3,\n",
       " 0,\n",
       " 2,\n",
       " 4,\n",
       " ['a', 'c', 'b'],\n",
       " 1.6391095109274887,\n",
       " -0.9249345372119703,\n",
       " 0.9223306019157185,\n",
       " -0.1891931090669293,\n",
       " 0.5456115709634167]"
      ]
     },
     "execution_count": 19,
     "metadata": {},
     "output_type": "execute_result"
    }
   ],
   "source": [
    "generate_random_stuff(0)"
   ]
  },
  {
   "cell_type": "code",
   "execution_count": 20,
   "metadata": {},
   "outputs": [
    {
     "data": {
      "text/plain": [
       "[3,\n",
       " 2,\n",
       " 2,\n",
       " 5,\n",
       " 1,\n",
       " ['a', 'b', 'c'],\n",
       " 0.09487640389262691,\n",
       " -0.88999953222526,\n",
       " -0.69214598784532,\n",
       " -0.17074051664044756,\n",
       " -2.1630614929438106]"
      ]
     },
     "execution_count": 20,
     "metadata": {},
     "output_type": "execute_result"
    }
   ],
   "source": [
    "generate_random_stuff(50)"
   ]
  },
  {
   "cell_type": "code",
   "execution_count": 21,
   "metadata": {},
   "outputs": [
    {
     "data": {
      "text/plain": [
       "[3,\n",
       " 0,\n",
       " 1,\n",
       " 2,\n",
       " 5,\n",
       " ['c', 'a', 'b'],\n",
       " 1.0567711011736938,\n",
       " -1.309880838493872,\n",
       " 1.259241164836141,\n",
       " 0.2791489568864211,\n",
       " 1.6279421925341]"
      ]
     },
     "execution_count": 21,
     "metadata": {},
     "output_type": "execute_result"
    }
   ],
   "source": [
    "generate_random_stuff(25)"
   ]
  },
  {
   "cell_type": "code",
   "execution_count": 22,
   "metadata": {},
   "outputs": [
    {
     "data": {
      "text/plain": [
       "[3,\n",
       " 0,\n",
       " 1,\n",
       " 2,\n",
       " 5,\n",
       " ['c', 'a', 'b'],\n",
       " 1.0567711011736938,\n",
       " -1.309880838493872,\n",
       " 1.259241164836141,\n",
       " 0.2791489568864211,\n",
       " 1.6279421925341]"
      ]
     },
     "execution_count": 22,
     "metadata": {},
     "output_type": "execute_result"
    }
   ],
   "source": [
    "generate_random_stuff(25)"
   ]
  },
  {
   "cell_type": "code",
   "execution_count": 23,
   "metadata": {},
   "outputs": [],
   "source": [
    "def freq_analysis(lst):\n",
    "    return {k: lst.count(k) for k in set(lst)}"
   ]
  },
  {
   "cell_type": "code",
   "execution_count": 24,
   "metadata": {},
   "outputs": [],
   "source": [
    "lst = [random.randint(0, 10) for _ in range(100)]"
   ]
  },
  {
   "cell_type": "code",
   "execution_count": 25,
   "metadata": {},
   "outputs": [
    {
     "name": "stdout",
     "output_type": "stream",
     "text": [
      "[9, 10, 3, 8, 9, 5, 2, 8, 5, 8, 7, 8, 1, 10, 10, 1, 9, 9, 5, 6, 5, 3, 10, 2, 9, 7, 1, 1, 6, 9, 1, 8, 10, 2, 0, 8, 2, 1, 9, 3, 6, 8, 7, 6, 7, 9, 8, 10, 7, 7, 0, 7, 4, 2, 0, 6, 6, 10, 7, 0, 7, 3, 6, 9, 9, 5, 1, 2, 1, 1, 3, 10, 2, 10, 2, 3, 2, 5, 3, 2, 10, 9, 9, 8, 8, 7, 5, 4, 5, 7, 7, 7, 7, 10, 6, 7, 6, 5, 8, 1]\n"
     ]
    }
   ],
   "source": [
    "print(lst)"
   ]
  },
  {
   "cell_type": "code",
   "execution_count": 26,
   "metadata": {},
   "outputs": [
    {
     "data": {
      "text/plain": [
       "{0, 1, 2, 3, 4, 5, 6, 7, 8, 9, 10}"
      ]
     },
     "execution_count": 26,
     "metadata": {},
     "output_type": "execute_result"
    }
   ],
   "source": [
    "set(lst)"
   ]
  },
  {
   "cell_type": "code",
   "execution_count": 27,
   "metadata": {},
   "outputs": [
    {
     "data": {
      "text/plain": [
       "10"
      ]
     },
     "execution_count": 27,
     "metadata": {},
     "output_type": "execute_result"
    }
   ],
   "source": [
    "lst.count(1)"
   ]
  },
  {
   "cell_type": "code",
   "execution_count": 28,
   "metadata": {},
   "outputs": [
    {
     "data": {
      "text/plain": [
       "11"
      ]
     },
     "execution_count": 28,
     "metadata": {},
     "output_type": "execute_result"
    }
   ],
   "source": [
    "lst.count(10)"
   ]
  },
  {
   "cell_type": "code",
   "execution_count": 29,
   "metadata": {},
   "outputs": [
    {
     "data": {
      "text/plain": [
       "{0: 4, 1: 10, 2: 10, 3: 7, 4: 2, 5: 9, 6: 9, 7: 15, 8: 11, 9: 12, 10: 11}"
      ]
     },
     "execution_count": 29,
     "metadata": {},
     "output_type": "execute_result"
    }
   ],
   "source": [
    "freq_analysis(lst)"
   ]
  },
  {
   "cell_type": "code",
   "execution_count": 31,
   "metadata": {},
   "outputs": [],
   "source": [
    "d = freq_analysis([random.randint(0, 10) for _ in range(1_000_000)])"
   ]
  },
  {
   "cell_type": "code",
   "execution_count": 32,
   "metadata": {},
   "outputs": [
    {
     "data": {
      "text/plain": [
       "{0: 91121,\n",
       " 1: 90704,\n",
       " 2: 90799,\n",
       " 3: 90937,\n",
       " 4: 91215,\n",
       " 5: 90523,\n",
       " 6: 90493,\n",
       " 7: 90878,\n",
       " 8: 91151,\n",
       " 9: 91312,\n",
       " 10: 90867}"
      ]
     },
     "execution_count": 32,
     "metadata": {},
     "output_type": "execute_result"
    }
   ],
   "source": [
    "d"
   ]
  },
  {
   "cell_type": "code",
   "execution_count": 33,
   "metadata": {},
   "outputs": [],
   "source": [
    "total = sum(d.values())"
   ]
  },
  {
   "cell_type": "code",
   "execution_count": 34,
   "metadata": {},
   "outputs": [
    {
     "data": {
      "text/plain": [
       "1000000"
      ]
     },
     "execution_count": 34,
     "metadata": {},
     "output_type": "execute_result"
    }
   ],
   "source": [
    "total"
   ]
  },
  {
   "cell_type": "code",
   "execution_count": 35,
   "metadata": {},
   "outputs": [
    {
     "data": {
      "text/plain": [
       "{0: 9.1121,\n",
       " 1: 9.070400000000001,\n",
       " 2: 9.0799,\n",
       " 3: 9.0937,\n",
       " 4: 9.121500000000001,\n",
       " 5: 9.0523,\n",
       " 6: 9.0493,\n",
       " 7: 9.0878,\n",
       " 8: 9.1151,\n",
       " 9: 9.1312,\n",
       " 10: 9.0867}"
      ]
     },
     "execution_count": 35,
     "metadata": {},
     "output_type": "execute_result"
    }
   ],
   "source": [
    "{k: v / total * 100 for k, v in d.items()}"
   ]
  },
  {
   "cell_type": "code",
   "execution_count": 36,
   "metadata": {},
   "outputs": [],
   "source": [
    "from collections import Counter"
   ]
  },
  {
   "cell_type": "code",
   "execution_count": 37,
   "metadata": {},
   "outputs": [
    {
     "data": {
      "text/plain": [
       "Counter({11: 9178,\n",
       "         12: 9088,\n",
       "         10: 8939,\n",
       "         20: 9155,\n",
       "         19: 9052,\n",
       "         17: 9125,\n",
       "         13: 9167,\n",
       "         14: 9217,\n",
       "         18: 9071,\n",
       "         16: 8988,\n",
       "         15: 9020})"
      ]
     },
     "execution_count": 37,
     "metadata": {},
     "output_type": "execute_result"
    }
   ],
   "source": [
    "Counter([random.randint(10, 20) for _ in range(100_000)])"
   ]
  },
  {
   "cell_type": "markdown",
   "metadata": {},
   "source": [
    "### 156. random choices"
   ]
  },
  {
   "cell_type": "code",
   "execution_count": 38,
   "metadata": {},
   "outputs": [],
   "source": [
    "l = list(range(1000))"
   ]
  },
  {
   "cell_type": "code",
   "execution_count": 62,
   "metadata": {},
   "outputs": [
    {
     "data": {
      "text/plain": [
       "392"
      ]
     },
     "execution_count": 62,
     "metadata": {},
     "output_type": "execute_result"
    }
   ],
   "source": [
    "random.choice(l)"
   ]
  },
  {
   "cell_type": "code",
   "execution_count": 72,
   "metadata": {},
   "outputs": [
    {
     "name": "stdout",
     "output_type": "stream",
     "text": [
      "[812, 618, 695, 565, 811]\n"
     ]
    }
   ],
   "source": [
    "randoms = [random.choice(l) for _ in range(5)]\n",
    "print(randoms)"
   ]
  },
  {
   "cell_type": "code",
   "execution_count": 97,
   "metadata": {},
   "outputs": [
    {
     "name": "stdout",
     "output_type": "stream",
     "text": [
      "[445, 877, 711, 419, 405]\n"
     ]
    }
   ],
   "source": [
    "randoms = random.choices(l, k=5)\n",
    "print(randoms)"
   ]
  },
  {
   "cell_type": "code",
   "execution_count": 99,
   "metadata": {},
   "outputs": [
    {
     "name": "stdout",
     "output_type": "stream",
     "text": [
      "[3, 4, 2, 1, 4, 1, 4, 1, 1, 3]\n"
     ]
    }
   ],
   "source": [
    "l = [1, 2, 3, 4]\n",
    "randoms = [random.choice(l) for _ in range(10)]\n",
    "print(randoms)"
   ]
  },
  {
   "cell_type": "code",
   "execution_count": 100,
   "metadata": {},
   "outputs": [],
   "source": [
    "l = ['a', 'b', 'c']"
   ]
  },
  {
   "cell_type": "code",
   "execution_count": 101,
   "metadata": {},
   "outputs": [
    {
     "name": "stdout",
     "output_type": "stream",
     "text": [
      "['a', 'a', 'a', 'b', 'b']\n",
      "['b', 'a', 'b', 'a', 'c']\n",
      "['b', 'b', 'b', 'b', 'c']\n",
      "['a', 'b', 'c', 'b', 'a']\n",
      "['b', 'a', 'b', 'a', 'b']\n",
      "['c', 'a', 'b', 'a', 'b']\n",
      "['b', 'a', 'c', 'b', 'a']\n",
      "['c', 'c', 'b', 'a', 'b']\n",
      "['c', 'a', 'a', 'b', 'c']\n",
      "['b', 'c', 'c', 'a', 'b']\n"
     ]
    }
   ],
   "source": [
    "for _ in range(10):\n",
    "    print(random.choices(l, k=5))"
   ]
  },
  {
   "cell_type": "code",
   "execution_count": 104,
   "metadata": {},
   "outputs": [],
   "source": [
    "weights = [10, 1, 1]"
   ]
  },
  {
   "cell_type": "code",
   "execution_count": 105,
   "metadata": {},
   "outputs": [
    {
     "name": "stdout",
     "output_type": "stream",
     "text": [
      "['a', 'a', 'a', 'a', 'b']\n",
      "['a', 'a', 'a', 'c', 'a']\n",
      "['a', 'a', 'a', 'a', 'a']\n",
      "['c', 'a', 'a', 'a', 'a']\n",
      "['a', 'a', 'a', 'a', 'a']\n",
      "['a', 'a', 'a', 'a', 'a']\n",
      "['a', 'c', 'a', 'a', 'a']\n",
      "['a', 'a', 'a', 'a', 'b']\n",
      "['a', 'a', 'a', 'a', 'b']\n",
      "['a', 'c', 'a', 'a', 'a']\n"
     ]
    }
   ],
   "source": [
    "for _ in range(10):\n",
    "    print(random.choices(l, k=5, weights=weights))"
   ]
  },
  {
   "cell_type": "code",
   "execution_count": 107,
   "metadata": {},
   "outputs": [],
   "source": [
    "from collections import namedtuple\n",
    "\n",
    "Freq = namedtuple('Freq', 'count freq')"
   ]
  },
  {
   "cell_type": "code",
   "execution_count": 108,
   "metadata": {},
   "outputs": [],
   "source": [
    "def freq_counts(lst):\n",
    "    total = len(lst)\n",
    "    return {k: Freq(lst.count(k), 100 * lst.count(k) / total) for k in set(lst)}"
   ]
  },
  {
   "cell_type": "code",
   "execution_count": 110,
   "metadata": {},
   "outputs": [
    {
     "data": {
      "text/plain": [
       "{'a': Freq(count=33253, freq=33.253),\n",
       " 'b': Freq(count=33512, freq=33.512),\n",
       " 'c': Freq(count=33235, freq=33.235)}"
      ]
     },
     "execution_count": 110,
     "metadata": {},
     "output_type": "execute_result"
    }
   ],
   "source": [
    "freq_counts(random.choices(l, k=100_000))"
   ]
  },
  {
   "cell_type": "code",
   "execution_count": 111,
   "metadata": {},
   "outputs": [],
   "source": [
    "weights = [8, 1, 1]"
   ]
  },
  {
   "cell_type": "code",
   "execution_count": 112,
   "metadata": {},
   "outputs": [
    {
     "data": {
      "text/plain": [
       "{'a': Freq(count=80031, freq=80.031),\n",
       " 'b': Freq(count=9954, freq=9.954),\n",
       " 'c': Freq(count=10015, freq=10.015)}"
      ]
     },
     "execution_count": 112,
     "metadata": {},
     "output_type": "execute_result"
    }
   ],
   "source": [
    "freq_counts(random.choices(l, k=100_000, weights=weights))"
   ]
  },
  {
   "cell_type": "code",
   "execution_count": 115,
   "metadata": {},
   "outputs": [],
   "source": [
    "weights = [7, 1, 2]"
   ]
  },
  {
   "cell_type": "code",
   "execution_count": 116,
   "metadata": {},
   "outputs": [
    {
     "data": {
      "text/plain": [
       "{'a': Freq(count=69867, freq=69.867),\n",
       " 'b': Freq(count=10054, freq=10.054),\n",
       " 'c': Freq(count=20079, freq=20.079)}"
      ]
     },
     "execution_count": 116,
     "metadata": {},
     "output_type": "execute_result"
    }
   ],
   "source": [
    "freq_counts(random.choices(l, k=100_000, weights=weights))"
   ]
  },
  {
   "cell_type": "code",
   "execution_count": 117,
   "metadata": {},
   "outputs": [],
   "source": [
    "cum_weights = [7, 8, 10]"
   ]
  },
  {
   "cell_type": "code",
   "execution_count": 118,
   "metadata": {},
   "outputs": [
    {
     "data": {
      "text/plain": [
       "{'a': Freq(count=69804, freq=69.804),\n",
       " 'b': Freq(count=9880, freq=9.88),\n",
       " 'c': Freq(count=20316, freq=20.316)}"
      ]
     },
     "execution_count": 118,
     "metadata": {},
     "output_type": "execute_result"
    }
   ],
   "source": [
    "freq_counts(random.choices(l, k=100_000, weights=weights))"
   ]
  },
  {
   "cell_type": "code",
   "execution_count": 119,
   "metadata": {},
   "outputs": [],
   "source": [
    "from time import perf_counter"
   ]
  },
  {
   "cell_type": "code",
   "execution_count": 120,
   "metadata": {},
   "outputs": [],
   "source": [
    "random.seed(0)"
   ]
  },
  {
   "cell_type": "code",
   "execution_count": 121,
   "metadata": {},
   "outputs": [],
   "source": [
    "denoms = random.choices([0, 1], k=10_000_000)"
   ]
  },
  {
   "cell_type": "code",
   "execution_count": 123,
   "metadata": {},
   "outputs": [
    {
     "name": "stdout",
     "output_type": "stream",
     "text": [
      "Avg elapsed time: 0.000000073356260\n"
     ]
    }
   ],
   "source": [
    "start = perf_counter()\n",
    "for d in denoms:\n",
    "    if d == 0:\n",
    "        continue\n",
    "    else:\n",
    "        10 / d\n",
    "end = perf_counter()\n",
    "print(f'Avg elapsed time: {(end-start)/len(denoms):0.15f}')"
   ]
  },
  {
   "cell_type": "code",
   "execution_count": 124,
   "metadata": {},
   "outputs": [
    {
     "name": "stdout",
     "output_type": "stream",
     "text": [
      "Avg elapsed time: 0.000000176008810\n"
     ]
    }
   ],
   "source": [
    "start = perf_counter()\n",
    "for d in denoms:\n",
    "    try:\n",
    "        10 / d\n",
    "    except ZeroDivisionError:\n",
    "        pass\n",
    "end = perf_counter()\n",
    "print(f'Avg elapsed time: {(end-start)/len(denoms):0.15f}')"
   ]
  },
  {
   "cell_type": "code",
   "execution_count": 129,
   "metadata": {},
   "outputs": [],
   "source": [
    "random.seed(0)\n",
    "denoms = random.choices([0, 1], k=10_000_000, weights=[9, 1])"
   ]
  },
  {
   "cell_type": "code",
   "execution_count": 130,
   "metadata": {},
   "outputs": [
    {
     "name": "stdout",
     "output_type": "stream",
     "text": [
      "Avg elapsed time: 6.333303000001251e-08\n"
     ]
    }
   ],
   "source": [
    "start = perf_counter()\n",
    "for d in denoms:\n",
    "    if d == 0:\n",
    "        continue\n",
    "    else:\n",
    "        10 / d\n",
    "end = perf_counter()\n",
    "print(f'Avg elapsed time: {(end-start)/len(denoms)}')"
   ]
  },
  {
   "cell_type": "code",
   "execution_count": 131,
   "metadata": {},
   "outputs": [
    {
     "name": "stdout",
     "output_type": "stream",
     "text": [
      "Avg elapsed time: 2.5613578000002235e-07\n"
     ]
    }
   ],
   "source": [
    "start = perf_counter()\n",
    "for d in denoms:\n",
    "    try:\n",
    "        10 / d\n",
    "    except ZeroDivisionError:\n",
    "        pass\n",
    "end = perf_counter()\n",
    "print(f'Avg elapsed time: {(end-start)/len(denoms)}')"
   ]
  },
  {
   "cell_type": "markdown",
   "metadata": {},
   "source": [
    "### 157. random samples"
   ]
  },
  {
   "cell_type": "code",
   "execution_count": 132,
   "metadata": {},
   "outputs": [],
   "source": [
    "import random"
   ]
  },
  {
   "cell_type": "code",
   "execution_count": 133,
   "metadata": {},
   "outputs": [
    {
     "data": {
      "text/plain": [
       "['c', 'c', 'a', 'b', 'b', 'c', 'c', 'c', 'a', 'b']"
      ]
     },
     "execution_count": 133,
     "metadata": {},
     "output_type": "execute_result"
    }
   ],
   "source": [
    "random.choices(list('abc'), k=10)"
   ]
  },
  {
   "cell_type": "code",
   "execution_count": 134,
   "metadata": {},
   "outputs": [
    {
     "name": "stdout",
     "output_type": "stream",
     "text": [
      "[0, 1, 2, 3, 4, 5, 6, 7, 8, 9]\n"
     ]
    }
   ],
   "source": [
    "l = list(range(10))\n",
    "print(l)"
   ]
  },
  {
   "cell_type": "code",
   "execution_count": 135,
   "metadata": {},
   "outputs": [
    {
     "data": {
      "text/plain": [
       "[3, 2, 4, 5, 7]"
      ]
     },
     "execution_count": 135,
     "metadata": {},
     "output_type": "execute_result"
    }
   ],
   "source": [
    "random.choices(l, k=5)"
   ]
  },
  {
   "cell_type": "code",
   "execution_count": 154,
   "metadata": {},
   "outputs": [
    {
     "data": {
      "text/plain": [
       "[1, 6, 5, 9, 8, 0, 7, 3, 2, 4]"
      ]
     },
     "execution_count": 154,
     "metadata": {},
     "output_type": "execute_result"
    }
   ],
   "source": [
    "random.sample(l, k=10)"
   ]
  },
  {
   "cell_type": "code",
   "execution_count": 156,
   "metadata": {},
   "outputs": [],
   "source": [
    "suits = 'C', 'D', 'H', 'S'\n",
    "ranks = tuple(range(2, 11)) + tuple('JQKA')"
   ]
  },
  {
   "cell_type": "code",
   "execution_count": 157,
   "metadata": {},
   "outputs": [
    {
     "data": {
      "text/plain": [
       "('C', 'D', 'H', 'S')"
      ]
     },
     "execution_count": 157,
     "metadata": {},
     "output_type": "execute_result"
    }
   ],
   "source": [
    "suits"
   ]
  },
  {
   "cell_type": "code",
   "execution_count": 158,
   "metadata": {},
   "outputs": [
    {
     "data": {
      "text/plain": [
       "(2, 3, 4, 5, 6, 7, 8, 9, 10, 'J', 'Q', 'K', 'A')"
      ]
     },
     "execution_count": 158,
     "metadata": {},
     "output_type": "execute_result"
    }
   ],
   "source": [
    "ranks"
   ]
  },
  {
   "cell_type": "code",
   "execution_count": 160,
   "metadata": {},
   "outputs": [],
   "source": [
    "deck = [str(rank) + suit for suit in suits for rank in ranks]"
   ]
  },
  {
   "cell_type": "code",
   "execution_count": 161,
   "metadata": {},
   "outputs": [],
   "source": [
    "from collections import Counter"
   ]
  },
  {
   "cell_type": "code",
   "execution_count": 162,
   "metadata": {},
   "outputs": [
    {
     "data": {
      "text/plain": [
       "Counter({'KC': 2,\n",
       "         '2S': 2,\n",
       "         '2H': 1,\n",
       "         '4C': 1,\n",
       "         'JH': 2,\n",
       "         '8H': 1,\n",
       "         'KS': 1,\n",
       "         '2C': 3,\n",
       "         '8S': 3,\n",
       "         '5C': 2,\n",
       "         '10S': 1,\n",
       "         '6C': 2,\n",
       "         '4D': 2,\n",
       "         '3D': 1,\n",
       "         '3H': 1,\n",
       "         '5D': 3,\n",
       "         '9H': 1,\n",
       "         '9D': 1,\n",
       "         '10D': 1,\n",
       "         '7C': 1,\n",
       "         'QH': 1,\n",
       "         'QC': 2,\n",
       "         '2D': 1,\n",
       "         'AH': 1,\n",
       "         '10C': 1,\n",
       "         '4H': 1,\n",
       "         '3C': 1})"
      ]
     },
     "execution_count": 162,
     "metadata": {},
     "output_type": "execute_result"
    }
   ],
   "source": [
    "Counter(random.choices(deck, k=40))"
   ]
  },
  {
   "cell_type": "code",
   "execution_count": 164,
   "metadata": {},
   "outputs": [
    {
     "data": {
      "text/plain": [
       "Counter({'AH': 1,\n",
       "         'AD': 1,\n",
       "         '5D': 1,\n",
       "         '10S': 1,\n",
       "         'JC': 1,\n",
       "         '5H': 1,\n",
       "         '8S': 1,\n",
       "         'JD': 1,\n",
       "         '3S': 1,\n",
       "         'JS': 1,\n",
       "         '6S': 1,\n",
       "         '9C': 1,\n",
       "         '6C': 1,\n",
       "         '4H': 1,\n",
       "         '8D': 1,\n",
       "         'JH': 1,\n",
       "         '5C': 1,\n",
       "         '3C': 1,\n",
       "         'KD': 1,\n",
       "         '3H': 1,\n",
       "         '10H': 1,\n",
       "         '10D': 1,\n",
       "         'AC': 1,\n",
       "         'KS': 1,\n",
       "         '6H': 1,\n",
       "         '7H': 1,\n",
       "         '5S': 1,\n",
       "         'AS': 1,\n",
       "         'QH': 1,\n",
       "         '9D': 1,\n",
       "         '2H': 1,\n",
       "         '9S': 1,\n",
       "         '6D': 1,\n",
       "         'KC': 1,\n",
       "         'QD': 1,\n",
       "         'KH': 1,\n",
       "         '4S': 1,\n",
       "         '10C': 1,\n",
       "         'QC': 1,\n",
       "         '2S': 1,\n",
       "         '4C': 1,\n",
       "         '7C': 1,\n",
       "         '4D': 1,\n",
       "         '7S': 1,\n",
       "         'QS': 1,\n",
       "         '9H': 1,\n",
       "         '2D': 1,\n",
       "         '2C': 1,\n",
       "         '8C': 1,\n",
       "         '7D': 1,\n",
       "         '8H': 1,\n",
       "         '3D': 1})"
      ]
     },
     "execution_count": 164,
     "metadata": {},
     "output_type": "execute_result"
    }
   ],
   "source": [
    "Counter(random.sample(deck, k=52))"
   ]
  },
  {
   "cell_type": "markdown",
   "metadata": {},
   "source": [
    "### 158. timing conde using *time it*"
   ]
  },
  {
   "cell_type": "code",
   "execution_count": 165,
   "metadata": {},
   "outputs": [],
   "source": [
    "from timeit import timeit"
   ]
  },
  {
   "cell_type": "code",
   "execution_count": 166,
   "metadata": {},
   "outputs": [
    {
     "name": "stdout",
     "output_type": "stream",
     "text": [
      "Help on function timeit in module timeit:\n",
      "\n",
      "timeit(stmt='pass', setup='pass', timer=<built-in function perf_counter>, number=1000000, globals=None)\n",
      "    Convenience function to create Timer object and call timeit method.\n",
      "\n"
     ]
    }
   ],
   "source": [
    "help(timeit)"
   ]
  },
  {
   "cell_type": "code",
   "execution_count": 167,
   "metadata": {},
   "outputs": [
    {
     "data": {
      "text/plain": [
       "1.4142135623730951"
      ]
     },
     "execution_count": 167,
     "metadata": {},
     "output_type": "execute_result"
    }
   ],
   "source": [
    "import math\n",
    "math.sqrt(2)"
   ]
  },
  {
   "cell_type": "code",
   "execution_count": 168,
   "metadata": {},
   "outputs": [
    {
     "data": {
      "text/plain": [
       "1.4142135623730951"
      ]
     },
     "execution_count": 168,
     "metadata": {},
     "output_type": "execute_result"
    }
   ],
   "source": [
    "from math import sqrt\n",
    "sqrt(2)"
   ]
  },
  {
   "cell_type": "code",
   "execution_count": 169,
   "metadata": {},
   "outputs": [
    {
     "data": {
      "text/plain": [
       "0.2020820999987336"
      ]
     },
     "execution_count": 169,
     "metadata": {},
     "output_type": "execute_result"
    }
   ],
   "source": [
    "timeit(stmt='import math\\nmath.sqrt(2)')"
   ]
  },
  {
   "cell_type": "code",
   "execution_count": 171,
   "metadata": {},
   "outputs": [
    {
     "data": {
      "text/plain": [
       "0.1345432999987679"
      ]
     },
     "execution_count": 171,
     "metadata": {},
     "output_type": "execute_result"
    }
   ],
   "source": [
    "timeit(stmt='math.sqrt(2)', setup='import math')"
   ]
  },
  {
   "cell_type": "code",
   "execution_count": 172,
   "metadata": {},
   "outputs": [
    {
     "data": {
      "text/plain": [
       "0.08714709999912884"
      ]
     },
     "execution_count": 172,
     "metadata": {},
     "output_type": "execute_result"
    }
   ],
   "source": [
    "timeit(stmt='sqrt(2)', setup='from math import sqrt')"
   ]
  },
  {
   "cell_type": "code",
   "execution_count": 173,
   "metadata": {},
   "outputs": [
    {
     "data": {
      "text/plain": [
       "True"
      ]
     },
     "execution_count": 173,
     "metadata": {},
     "output_type": "execute_result"
    }
   ],
   "source": [
    "'math' in globals()"
   ]
  },
  {
   "cell_type": "code",
   "execution_count": 174,
   "metadata": {},
   "outputs": [
    {
     "data": {
      "text/plain": [
       "0.1448147000010067"
      ]
     },
     "execution_count": 174,
     "metadata": {},
     "output_type": "execute_result"
    }
   ],
   "source": [
    "timeit(stmt='sqrt(2)', globals=globals())"
   ]
  },
  {
   "cell_type": "code",
   "execution_count": 175,
   "metadata": {},
   "outputs": [],
   "source": [
    "import random"
   ]
  },
  {
   "cell_type": "code",
   "execution_count": 176,
   "metadata": {},
   "outputs": [],
   "source": [
    "l = random.choices(list('python'), k=500)"
   ]
  },
  {
   "cell_type": "code",
   "execution_count": 178,
   "metadata": {},
   "outputs": [
    {
     "data": {
      "text/plain": [
       "True"
      ]
     },
     "execution_count": 178,
     "metadata": {},
     "output_type": "execute_result"
    }
   ],
   "source": [
    "'l' in globals()"
   ]
  },
  {
   "cell_type": "code",
   "execution_count": 180,
   "metadata": {},
   "outputs": [
    {
     "data": {
      "text/plain": [
       "0.48603340000045137"
      ]
     },
     "execution_count": 180,
     "metadata": {},
     "output_type": "execute_result"
    }
   ],
   "source": [
    "timeit(stmt='random.choice(l)', setup='import random', globals=globals())"
   ]
  },
  {
   "cell_type": "code",
   "execution_count": 188,
   "metadata": {},
   "outputs": [],
   "source": [
    "def pick_random():\n",
    "    randoms = random.choices(list('python'), k=500)\n",
    "    print('randoms' in locals())\n",
    "    timeit(stmt='random.choice(randoms)', setup='import random', globals=locals())"
   ]
  },
  {
   "cell_type": "code",
   "execution_count": 189,
   "metadata": {},
   "outputs": [
    {
     "data": {
      "text/plain": [
       "True"
      ]
     },
     "execution_count": 189,
     "metadata": {},
     "output_type": "execute_result"
    }
   ],
   "source": [
    "'randoms' in globals()"
   ]
  },
  {
   "cell_type": "code",
   "execution_count": 190,
   "metadata": {},
   "outputs": [
    {
     "name": "stdout",
     "output_type": "stream",
     "text": [
      "True\n"
     ]
    }
   ],
   "source": [
    "pick_random()"
   ]
  },
  {
   "cell_type": "code",
   "execution_count": 191,
   "metadata": {},
   "outputs": [],
   "source": [
    "def pick_random(lst):\n",
    "    return random.choice(lst)"
   ]
  },
  {
   "cell_type": "code",
   "execution_count": 193,
   "metadata": {},
   "outputs": [
    {
     "data": {
      "text/plain": [
       "True"
      ]
     },
     "execution_count": 193,
     "metadata": {},
     "output_type": "execute_result"
    }
   ],
   "source": [
    "'pick_random' in globals()"
   ]
  },
  {
   "cell_type": "code",
   "execution_count": 194,
   "metadata": {},
   "outputs": [
    {
     "data": {
      "text/plain": [
       "True"
      ]
     },
     "execution_count": 194,
     "metadata": {},
     "output_type": "execute_result"
    }
   ],
   "source": [
    "'l' in globals()"
   ]
  },
  {
   "cell_type": "code",
   "execution_count": 192,
   "metadata": {},
   "outputs": [
    {
     "data": {
      "text/plain": [
       "0.5393044000011287"
      ]
     },
     "execution_count": 192,
     "metadata": {},
     "output_type": "execute_result"
    }
   ],
   "source": [
    "timeit(stmt='pick_random(l)', globals=globals())"
   ]
  },
  {
   "cell_type": "markdown",
   "metadata": {},
   "source": [
    "### 159. don't use *args and **kwargs names blindly"
   ]
  },
  {
   "cell_type": "code",
   "execution_count": 203,
   "metadata": {},
   "outputs": [],
   "source": [
    "def audit(func):\n",
    "    def inner(*args, **kwargs):\n",
    "        print(f'Called {func.__name__}')\n",
    "        return func(*args, **kwargs)\n",
    "    return inner"
   ]
  },
  {
   "cell_type": "code",
   "execution_count": 204,
   "metadata": {},
   "outputs": [],
   "source": [
    "@audit\n",
    "def say_hello(name):\n",
    "    return f'Hello {name}'\n",
    "\n",
    "from operator import mul\n",
    "from functools import reduce\n",
    "\n",
    "@audit\n",
    "def product(*values):\n",
    "    return reduce(mul, values)"
   ]
  },
  {
   "cell_type": "code",
   "execution_count": 205,
   "metadata": {},
   "outputs": [
    {
     "name": "stdout",
     "output_type": "stream",
     "text": [
      "Called say_hello\n"
     ]
    },
    {
     "data": {
      "text/plain": [
       "'Hello Polly'"
      ]
     },
     "execution_count": 205,
     "metadata": {},
     "output_type": "execute_result"
    }
   ],
   "source": [
    "say_hello(name='Polly')"
   ]
  },
  {
   "cell_type": "code",
   "execution_count": 206,
   "metadata": {},
   "outputs": [
    {
     "name": "stdout",
     "output_type": "stream",
     "text": [
      "Called product\n"
     ]
    },
    {
     "data": {
      "text/plain": [
       "120"
      ]
     },
     "execution_count": 206,
     "metadata": {},
     "output_type": "execute_result"
    }
   ],
   "source": [
    "product(1, 2, 3, 4, 5)"
   ]
  },
  {
   "cell_type": "code",
   "execution_count": 207,
   "metadata": {},
   "outputs": [],
   "source": [
    "class Person:\n",
    "    def __init__(self, name, age, **custom_attributes):\n",
    "        self.name = name\n",
    "        self.age = age\n",
    "        for attr_name, attr_value in custom_attributes.items():\n",
    "            setattr(self, attr_name, attr_value)"
   ]
  },
  {
   "cell_type": "code",
   "execution_count": 209,
   "metadata": {},
   "outputs": [],
   "source": [
    "parrot = Person('Polly', 101, status='stiff', vooms=False)"
   ]
  },
  {
   "cell_type": "code",
   "execution_count": 210,
   "metadata": {},
   "outputs": [
    {
     "name": "stdout",
     "output_type": "stream",
     "text": [
      "{'name': 'Polly', 'age': 101, 'status': 'stiff', 'vooms': False}\n"
     ]
    }
   ],
   "source": [
    "print(vars(parrot))"
   ]
  },
  {
   "cell_type": "code",
   "execution_count": null,
   "metadata": {},
   "outputs": [],
   "source": []
  },
  {
   "cell_type": "code",
   "execution_count": null,
   "metadata": {},
   "outputs": [],
   "source": []
  },
  {
   "cell_type": "code",
   "execution_count": null,
   "metadata": {},
   "outputs": [],
   "source": []
  },
  {
   "cell_type": "code",
   "execution_count": null,
   "metadata": {},
   "outputs": [],
   "source": []
  },
  {
   "cell_type": "code",
   "execution_count": null,
   "metadata": {},
   "outputs": [],
   "source": []
  },
  {
   "cell_type": "code",
   "execution_count": null,
   "metadata": {},
   "outputs": [],
   "source": []
  },
  {
   "cell_type": "code",
   "execution_count": null,
   "metadata": {},
   "outputs": [],
   "source": []
  },
  {
   "cell_type": "code",
   "execution_count": null,
   "metadata": {},
   "outputs": [],
   "source": []
  },
  {
   "cell_type": "code",
   "execution_count": null,
   "metadata": {},
   "outputs": [],
   "source": []
  }
 ],
 "metadata": {
  "kernelspec": {
   "display_name": "base",
   "language": "python",
   "name": "python3"
  },
  "language_info": {
   "codemirror_mode": {
    "name": "ipython",
    "version": 3
   },
   "file_extension": ".py",
   "mimetype": "text/x-python",
   "name": "python",
   "nbconvert_exporter": "python",
   "pygments_lexer": "ipython3",
   "version": "3.9.13"
  }
 },
 "nbformat": 4,
 "nbformat_minor": 2
}
